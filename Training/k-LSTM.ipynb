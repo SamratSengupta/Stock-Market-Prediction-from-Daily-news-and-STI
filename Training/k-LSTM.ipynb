{
 "cells": [
  {
   "cell_type": "code",
   "execution_count": 1,
   "metadata": {},
   "outputs": [
    {
     "name": "stderr",
     "output_type": "stream",
     "text": [
      "C:\\softwares\\conda4.8.2-python3.7\\lib\\site-packages\\tensorflow\\python\\framework\\dtypes.py:516: FutureWarning: Passing (type, 1) or '1type' as a synonym of type is deprecated; in a future version of numpy, it will be understood as (type, (1,)) / '(1,)type'.\n",
      "  _np_qint8 = np.dtype([(\"qint8\", np.int8, 1)])\n",
      "C:\\softwares\\conda4.8.2-python3.7\\lib\\site-packages\\tensorflow\\python\\framework\\dtypes.py:517: FutureWarning: Passing (type, 1) or '1type' as a synonym of type is deprecated; in a future version of numpy, it will be understood as (type, (1,)) / '(1,)type'.\n",
      "  _np_quint8 = np.dtype([(\"quint8\", np.uint8, 1)])\n",
      "C:\\softwares\\conda4.8.2-python3.7\\lib\\site-packages\\tensorflow\\python\\framework\\dtypes.py:518: FutureWarning: Passing (type, 1) or '1type' as a synonym of type is deprecated; in a future version of numpy, it will be understood as (type, (1,)) / '(1,)type'.\n",
      "  _np_qint16 = np.dtype([(\"qint16\", np.int16, 1)])\n",
      "C:\\softwares\\conda4.8.2-python3.7\\lib\\site-packages\\tensorflow\\python\\framework\\dtypes.py:519: FutureWarning: Passing (type, 1) or '1type' as a synonym of type is deprecated; in a future version of numpy, it will be understood as (type, (1,)) / '(1,)type'.\n",
      "  _np_quint16 = np.dtype([(\"quint16\", np.uint16, 1)])\n",
      "C:\\softwares\\conda4.8.2-python3.7\\lib\\site-packages\\tensorflow\\python\\framework\\dtypes.py:520: FutureWarning: Passing (type, 1) or '1type' as a synonym of type is deprecated; in a future version of numpy, it will be understood as (type, (1,)) / '(1,)type'.\n",
      "  _np_qint32 = np.dtype([(\"qint32\", np.int32, 1)])\n",
      "C:\\softwares\\conda4.8.2-python3.7\\lib\\site-packages\\tensorflow\\python\\framework\\dtypes.py:525: FutureWarning: Passing (type, 1) or '1type' as a synonym of type is deprecated; in a future version of numpy, it will be understood as (type, (1,)) / '(1,)type'.\n",
      "  np_resource = np.dtype([(\"resource\", np.ubyte, 1)])\n",
      "C:\\softwares\\conda4.8.2-python3.7\\lib\\site-packages\\tensorboard\\compat\\tensorflow_stub\\dtypes.py:541: FutureWarning: Passing (type, 1) or '1type' as a synonym of type is deprecated; in a future version of numpy, it will be understood as (type, (1,)) / '(1,)type'.\n",
      "  _np_qint8 = np.dtype([(\"qint8\", np.int8, 1)])\n",
      "C:\\softwares\\conda4.8.2-python3.7\\lib\\site-packages\\tensorboard\\compat\\tensorflow_stub\\dtypes.py:542: FutureWarning: Passing (type, 1) or '1type' as a synonym of type is deprecated; in a future version of numpy, it will be understood as (type, (1,)) / '(1,)type'.\n",
      "  _np_quint8 = np.dtype([(\"quint8\", np.uint8, 1)])\n",
      "C:\\softwares\\conda4.8.2-python3.7\\lib\\site-packages\\tensorboard\\compat\\tensorflow_stub\\dtypes.py:543: FutureWarning: Passing (type, 1) or '1type' as a synonym of type is deprecated; in a future version of numpy, it will be understood as (type, (1,)) / '(1,)type'.\n",
      "  _np_qint16 = np.dtype([(\"qint16\", np.int16, 1)])\n",
      "C:\\softwares\\conda4.8.2-python3.7\\lib\\site-packages\\tensorboard\\compat\\tensorflow_stub\\dtypes.py:544: FutureWarning: Passing (type, 1) or '1type' as a synonym of type is deprecated; in a future version of numpy, it will be understood as (type, (1,)) / '(1,)type'.\n",
      "  _np_quint16 = np.dtype([(\"quint16\", np.uint16, 1)])\n",
      "C:\\softwares\\conda4.8.2-python3.7\\lib\\site-packages\\tensorboard\\compat\\tensorflow_stub\\dtypes.py:545: FutureWarning: Passing (type, 1) or '1type' as a synonym of type is deprecated; in a future version of numpy, it will be understood as (type, (1,)) / '(1,)type'.\n",
      "  _np_qint32 = np.dtype([(\"qint32\", np.int32, 1)])\n",
      "C:\\softwares\\conda4.8.2-python3.7\\lib\\site-packages\\tensorboard\\compat\\tensorflow_stub\\dtypes.py:550: FutureWarning: Passing (type, 1) or '1type' as a synonym of type is deprecated; in a future version of numpy, it will be understood as (type, (1,)) / '(1,)type'.\n",
      "  np_resource = np.dtype([(\"resource\", np.ubyte, 1)])\n",
      "Using TensorFlow backend.\n"
     ]
    }
   ],
   "source": [
    "import numpy as np # linear algebra\n",
    "import pandas as pd # data processing, CSV file I/O (e.g. pd.read_csv)\n",
    "\n",
    "import tensorflow as tf\n",
    "\n",
    "from subprocess import check_output\n",
    "from keras.layers.core import Dense, Activation, Dropout\n",
    "from keras.layers.recurrent import LSTM\n",
    "from keras.models import Sequential\n",
    "from sklearn.model_selection import  train_test_split\n",
    "import time #helper libraries\n",
    "from sklearn.preprocessing import MinMaxScaler\n",
    "import matplotlib.pyplot as plt\n",
    "from numpy import newaxis"
   ]
  },
  {
   "cell_type": "code",
   "execution_count": 2,
   "metadata": {},
   "outputs": [],
   "source": [
    "from keras.models import Sequential\n",
    "from keras import initializers\n",
    "from keras.layers import Dropout, Activation, Embedding, Convolution1D, MaxPooling1D, Input, Dense, add, \\\n",
    "                         BatchNormalization, Flatten, Reshape, Concatenate\n",
    "from keras.layers.recurrent import LSTM, GRU\n",
    "from keras.callbacks import Callback, ModelCheckpoint, EarlyStopping, ReduceLROnPlateau\n",
    "from keras.models import Model\n",
    "from keras.optimizers import Adam, SGD, RMSprop\n",
    "from keras import regularizers\n",
    "from keras.utils.vis_utils import plot_model\n",
    "import re"
   ]
  },
  {
   "cell_type": "code",
   "execution_count": 3,
   "metadata": {},
   "outputs": [],
   "source": [
    "#see explanation -->https://stackoverflow.com/questions/57062456/function-call-stack-keras-scratch-graph-error\n",
    "#replicate the error by commenting out below block"
   ]
  },
  {
   "cell_type": "code",
   "execution_count": 4,
   "metadata": {},
   "outputs": [
    {
     "name": "stdout",
     "output_type": "stream",
     "text": [
      "physical_devices------------- 1\n"
     ]
    }
   ],
   "source": [
    "physical_devices = tf.config.experimental.list_physical_devices('GPU')\n",
    "print(\"physical_devices-------------\", len(physical_devices))\n",
    "tf.config.experimental.set_memory_growth(physical_devices[0], True)"
   ]
  },
  {
   "cell_type": "code",
   "execution_count": 5,
   "metadata": {},
   "outputs": [],
   "source": [
    "from sklearn.metrics import accuracy_score\n",
    "from sklearn.model_selection import train_test_split"
   ]
  },
  {
   "cell_type": "code",
   "execution_count": 6,
   "metadata": {},
   "outputs": [],
   "source": [
    "from matplotlib import pyplot as plt\n",
    "%matplotlib inline"
   ]
  },
  {
   "cell_type": "code",
   "execution_count": 7,
   "metadata": {},
   "outputs": [],
   "source": [
    "df = pd.read_csv('stcok_indicators.csv')\n",
    "df = df.drop('Date',axis=1)"
   ]
  },
  {
   "cell_type": "code",
   "execution_count": 8,
   "metadata": {},
   "outputs": [],
   "source": [
    "from sklearn.preprocessing import StandardScaler\n",
    "scaled_features = StandardScaler().fit_transform(df.values)"
   ]
  },
  {
   "cell_type": "code",
   "execution_count": 9,
   "metadata": {},
   "outputs": [],
   "source": [
    "df_scale = pd.DataFrame(scaled_features, index=df.index, columns=df.columns)"
   ]
  },
  {
   "cell_type": "code",
   "execution_count": 10,
   "metadata": {},
   "outputs": [],
   "source": [
    "train_size = int(len(df_scale) * 0.80)\n",
    "test_size = len(df_scale) - train_size"
   ]
  },
  {
   "cell_type": "code",
   "execution_count": 11,
   "metadata": {},
   "outputs": [],
   "source": [
    "X = df_scale.drop(\"cap\", axis = 1)\n",
    "y = df_scale.cap"
   ]
  },
  {
   "cell_type": "code",
   "execution_count": 12,
   "metadata": {},
   "outputs": [],
   "source": [
    "x_train, x_test, y_train, y_test = train_test_split(X, y, test_size = 0.15, random_state = 2)\n",
    "\n",
    "x_train = np.array(x_train)\n",
    "x_test = np.array(x_test)\n",
    "y_train = np.array(y_train)\n",
    "y_test = np.array(y_test)"
   ]
  },
  {
   "cell_type": "code",
   "execution_count": 13,
   "metadata": {},
   "outputs": [],
   "source": [
    "trainX = np.reshape(x_train, (x_train.shape[0], 1, x_train.shape[1]))\n",
    "testX = np.reshape(x_test, (x_test.shape[0], 1, x_test.shape[1]))"
   ]
  },
  {
   "cell_type": "code",
   "execution_count": 14,
   "metadata": {},
   "outputs": [
    {
     "data": {
      "text/plain": [
       "(2580, 1, 8)"
      ]
     },
     "execution_count": 14,
     "metadata": {},
     "output_type": "execute_result"
    }
   ],
   "source": [
    "trainX.shape"
   ]
  },
  {
   "cell_type": "code",
   "execution_count": 15,
   "metadata": {},
   "outputs": [],
   "source": [
    "#Model\n",
    "\n",
    "def build_model():\n",
    "    regressor = Sequential()\n",
    "\n",
    "    regressor.add(LSTM(units = 100, return_sequences = True, input_shape = (trainX.shape[1], trainX.shape[2])))\n",
    "    regressor.add(Dropout(0.2))\n",
    "\n",
    "    # regressor.add(LSTM(units = 50, return_sequences = True))\n",
    "    # regressor.add(Dropout(0.2))\n",
    "\n",
    "    # regressor.add(LSTM(units = 50, return_sequences = True))\n",
    "    # regressor.add(Dropout(0.2))\n",
    "\n",
    "    regressor.add(LSTM(units = 100))\n",
    "    regressor.add(Dropout(0.2))\n",
    "\n",
    "    regressor.add(Dense(units = 1))\n",
    "\n",
    "    regressor.compile(optimizer = 'adam', loss = 'mean_squared_error')\n",
    "    \n",
    "    return regressor\n"
   ]
  },
  {
   "cell_type": "code",
   "execution_count": 16,
   "metadata": {},
   "outputs": [],
   "source": [
    "# model = build_model()\n",
    "# print()\n",
    "# save_best_weights = 'lstm.h5'\n",
    "\n",
    "# callbacks = [ModelCheckpoint(save_best_weights, monitor='val_loss', save_best_only=True),\n",
    "#             EarlyStopping(monitor='val_loss', patience=5, verbose=1, mode='auto'),\n",
    "#             ReduceLROnPlateau(monitor='val_loss', factor=0.2, verbose=1, patience=3)]\n",
    "\n",
    "# history = model.fit(trainX,\n",
    "#                     y_train,\n",
    "#                     batch_size=32,\n",
    "#                     epochs=100,\n",
    "#                     validation_split=0.15,\n",
    "#                     verbose=True,\n",
    "#                     shuffle=True,\n",
    "#                     callbacks = callbacks)\n",
    "# print(model.summary())"
   ]
  },
  {
   "cell_type": "code",
   "execution_count": 17,
   "metadata": {},
   "outputs": [
    {
     "name": "stdout",
     "output_type": "stream",
     "text": [
      "WARNING:tensorflow:From C:\\softwares\\conda4.8.2-python3.7\\lib\\site-packages\\keras\\backend\\tensorflow_backend.py:74: The name tf.get_default_graph is deprecated. Please use tf.compat.v1.get_default_graph instead.\n",
      "\n",
      "WARNING:tensorflow:From C:\\softwares\\conda4.8.2-python3.7\\lib\\site-packages\\keras\\backend\\tensorflow_backend.py:517: The name tf.placeholder is deprecated. Please use tf.compat.v1.placeholder instead.\n",
      "\n",
      "WARNING:tensorflow:From C:\\softwares\\conda4.8.2-python3.7\\lib\\site-packages\\keras\\backend\\tensorflow_backend.py:4138: The name tf.random_uniform is deprecated. Please use tf.random.uniform instead.\n",
      "\n",
      "WARNING:tensorflow:From C:\\softwares\\conda4.8.2-python3.7\\lib\\site-packages\\keras\\backend\\tensorflow_backend.py:133: The name tf.placeholder_with_default is deprecated. Please use tf.compat.v1.placeholder_with_default instead.\n",
      "\n",
      "WARNING:tensorflow:From C:\\softwares\\conda4.8.2-python3.7\\lib\\site-packages\\keras\\backend\\tensorflow_backend.py:3445: calling dropout (from tensorflow.python.ops.nn_ops) with keep_prob is deprecated and will be removed in a future version.\n",
      "Instructions for updating:\n",
      "Please use `rate` instead of `keep_prob`. Rate should be set to `rate = 1 - keep_prob`.\n",
      "WARNING:tensorflow:From C:\\softwares\\conda4.8.2-python3.7\\lib\\site-packages\\keras\\optimizers.py:790: The name tf.train.Optimizer is deprecated. Please use tf.compat.v1.train.Optimizer instead.\n",
      "\n",
      "WARNING:tensorflow:From C:\\softwares\\conda4.8.2-python3.7\\lib\\site-packages\\tensorflow\\python\\ops\\math_grad.py:1250: add_dispatch_support.<locals>.wrapper (from tensorflow.python.ops.array_ops) is deprecated and will be removed in a future version.\n",
      "Instructions for updating:\n",
      "Use tf.where in 2.0, which has the same broadcast rule as np.where\n",
      "WARNING:tensorflow:From C:\\softwares\\conda4.8.2-python3.7\\lib\\site-packages\\keras\\backend\\tensorflow_backend.py:986: The name tf.assign_add is deprecated. Please use tf.compat.v1.assign_add instead.\n",
      "\n",
      "Epoch 1/200\n",
      "2580/2580 [==============================] - 3s 1ms/step - loss: 0.7578\n",
      "Epoch 2/200\n",
      "2580/2580 [==============================] - 1s 257us/step - loss: 0.6248\n",
      "Epoch 3/200\n",
      "2580/2580 [==============================] - 1s 260us/step - loss: 0.6124\n",
      "Epoch 4/200\n",
      "2580/2580 [==============================] - 1s 261us/step - loss: 0.6118\n",
      "Epoch 5/200\n",
      "2580/2580 [==============================] - 1s 259us/step - loss: 0.6087\n",
      "Epoch 6/200\n",
      "2580/2580 [==============================] - 1s 262us/step - loss: 0.6145\n",
      "Epoch 7/200\n",
      "2580/2580 [==============================] - 1s 259us/step - loss: 0.6036\n",
      "Epoch 8/200\n",
      "2580/2580 [==============================] - 1s 262us/step - loss: 0.6026\n",
      "Epoch 9/200\n",
      "2580/2580 [==============================] - 1s 263us/step - loss: 0.6039\n",
      "Epoch 10/200\n",
      "2580/2580 [==============================] - 1s 271us/step - loss: 0.5939\n",
      "Epoch 11/200\n",
      "2580/2580 [==============================] - 1s 262us/step - loss: 0.5927 0s - l\n",
      "Epoch 12/200\n",
      "2580/2580 [==============================] - 1s 267us/step - loss: 0.5870\n",
      "Epoch 13/200\n",
      "2580/2580 [==============================] - 1s 265us/step - loss: 0.5861\n",
      "Epoch 14/200\n",
      "2580/2580 [==============================] - 1s 260us/step - loss: 0.5876\n",
      "Epoch 15/200\n",
      "2580/2580 [==============================] - 1s 259us/step - loss: 0.5835\n",
      "Epoch 16/200\n",
      "2580/2580 [==============================] - 1s 267us/step - loss: 0.5853\n",
      "Epoch 17/200\n",
      "2580/2580 [==============================] - 1s 263us/step - loss: 0.5804\n",
      "Epoch 18/200\n",
      "2580/2580 [==============================] - 1s 266us/step - loss: 0.5722\n",
      "Epoch 19/200\n",
      "2580/2580 [==============================] - 1s 264us/step - loss: 0.5702\n",
      "Epoch 20/200\n",
      "2580/2580 [==============================] - 1s 263us/step - loss: 0.5765\n",
      "Epoch 21/200\n",
      "2580/2580 [==============================] - 1s 268us/step - loss: 0.5767\n",
      "Epoch 22/200\n",
      "2580/2580 [==============================] - 1s 258us/step - loss: 0.5633\n",
      "Epoch 23/200\n",
      "2580/2580 [==============================] - 1s 266us/step - loss: 0.5566\n",
      "Epoch 24/200\n",
      "2580/2580 [==============================] - 1s 266us/step - loss: 0.5720\n",
      "Epoch 25/200\n",
      "2580/2580 [==============================] - 1s 262us/step - loss: 0.5666\n",
      "Epoch 26/200\n",
      "2580/2580 [==============================] - 1s 269us/step - loss: 0.5629\n",
      "Epoch 27/200\n",
      "2580/2580 [==============================] - 1s 264us/step - loss: 0.5690\n",
      "Epoch 28/200\n",
      "2580/2580 [==============================] - 1s 265us/step - loss: 0.5565\n",
      "Epoch 29/200\n",
      "2580/2580 [==============================] - 1s 269us/step - loss: 0.5510 0s - lo\n",
      "Epoch 30/200\n",
      "2580/2580 [==============================] - 1s 265us/step - loss: 0.5529\n",
      "Epoch 31/200\n",
      "2580/2580 [==============================] - 1s 268us/step - loss: 0.5511\n",
      "Epoch 32/200\n",
      "2580/2580 [==============================] - 1s 267us/step - loss: 0.5524\n",
      "Epoch 33/200\n",
      "2580/2580 [==============================] - 1s 269us/step - loss: 0.5382 0s - l\n",
      "Epoch 34/200\n",
      "2580/2580 [==============================] - 1s 272us/step - loss: 0.5497\n",
      "Epoch 35/200\n",
      "2580/2580 [==============================] - 1s 267us/step - loss: 0.5521\n",
      "Epoch 36/200\n",
      "2580/2580 [==============================] - 1s 268us/step - loss: 0.5338\n",
      "Epoch 37/200\n",
      "2580/2580 [==============================] - 1s 275us/step - loss: 0.5527\n",
      "Epoch 38/200\n",
      "2580/2580 [==============================] - 1s 267us/step - loss: 0.5400\n",
      "Epoch 39/200\n",
      "2580/2580 [==============================] - 1s 268us/step - loss: 0.5350\n",
      "Epoch 40/200\n",
      "2580/2580 [==============================] - 1s 267us/step - loss: 0.5344\n",
      "Epoch 41/200\n",
      "2580/2580 [==============================] - 1s 269us/step - loss: 0.5249\n",
      "Epoch 42/200\n",
      "2580/2580 [==============================] - 1s 273us/step - loss: 0.5342\n",
      "Epoch 43/200\n",
      "2580/2580 [==============================] - 1s 267us/step - loss: 0.5391\n",
      "Epoch 44/200\n",
      "2580/2580 [==============================] - 1s 270us/step - loss: 0.5340\n",
      "Epoch 45/200\n",
      "2580/2580 [==============================] - 1s 265us/step - loss: 0.5245\n",
      "Epoch 46/200\n",
      "2580/2580 [==============================] - 1s 275us/step - loss: 0.5307\n",
      "Epoch 47/200\n",
      "2580/2580 [==============================] - 1s 270us/step - loss: 0.5327\n",
      "Epoch 48/200\n",
      "2580/2580 [==============================] - 1s 270us/step - loss: 0.5483\n",
      "Epoch 49/200\n",
      "2580/2580 [==============================] - 1s 267us/step - loss: 0.5289\n",
      "Epoch 50/200\n",
      "2580/2580 [==============================] - 1s 264us/step - loss: 0.5273\n",
      "Epoch 51/200\n",
      "2580/2580 [==============================] - 1s 271us/step - loss: 0.5222\n",
      "Epoch 52/200\n",
      "2580/2580 [==============================] - 1s 269us/step - loss: 0.5183\n",
      "Epoch 53/200\n",
      "2580/2580 [==============================] - 1s 271us/step - loss: 0.5325\n",
      "Epoch 54/200\n",
      "2580/2580 [==============================] - 1s 270us/step - loss: 0.5209\n",
      "Epoch 55/200\n",
      "2580/2580 [==============================] - 1s 275us/step - loss: 0.5310\n",
      "Epoch 56/200\n",
      "2580/2580 [==============================] - 1s 266us/step - loss: 0.5126\n",
      "Epoch 57/200\n",
      "2580/2580 [==============================] - 1s 270us/step - loss: 0.5265\n",
      "Epoch 58/200\n",
      "2580/2580 [==============================] - 1s 272us/step - loss: 0.5186\n",
      "Epoch 59/200\n",
      "2580/2580 [==============================] - 1s 273us/step - loss: 0.5173\n",
      "Epoch 60/200\n",
      "2580/2580 [==============================] - 1s 272us/step - loss: 0.5117\n",
      "Epoch 61/200\n",
      "2580/2580 [==============================] - 1s 264us/step - loss: 0.5216\n",
      "Epoch 62/200\n",
      "2580/2580 [==============================] - 1s 269us/step - loss: 0.5074\n",
      "Epoch 63/200\n",
      "2580/2580 [==============================] - 1s 268us/step - loss: 0.5192\n",
      "Epoch 64/200\n",
      "2580/2580 [==============================] - 1s 269us/step - loss: 0.5042\n",
      "Epoch 65/200\n",
      "2580/2580 [==============================] - 1s 272us/step - loss: 0.5056\n",
      "Epoch 66/200\n",
      "2580/2580 [==============================] - 1s 269us/step - loss: 0.5121\n",
      "Epoch 67/200\n",
      "2580/2580 [==============================] - 1s 269us/step - loss: 0.4894\n",
      "Epoch 68/200\n",
      "2580/2580 [==============================] - 1s 274us/step - loss: 0.5122\n",
      "Epoch 69/200\n",
      "2580/2580 [==============================] - 1s 272us/step - loss: 0.4908\n",
      "Epoch 70/200\n",
      "2580/2580 [==============================] - 1s 268us/step - loss: 0.5148\n",
      "Epoch 71/200\n",
      "2580/2580 [==============================] - 1s 273us/step - loss: 0.4919\n",
      "Epoch 72/200\n"
     ]
    },
    {
     "name": "stdout",
     "output_type": "stream",
     "text": [
      "2580/2580 [==============================] - 1s 267us/step - loss: 0.4988\n",
      "Epoch 73/200\n",
      "2580/2580 [==============================] - 1s 266us/step - loss: 0.4983\n",
      "Epoch 74/200\n",
      "2580/2580 [==============================] - 1s 269us/step - loss: 0.5012\n",
      "Epoch 75/200\n",
      "2580/2580 [==============================] - 1s 276us/step - loss: 0.4925\n",
      "Epoch 76/200\n",
      "2580/2580 [==============================] - 1s 270us/step - loss: 0.4873\n",
      "Epoch 77/200\n",
      "2580/2580 [==============================] - 1s 264us/step - loss: 0.4959\n",
      "Epoch 78/200\n",
      "2580/2580 [==============================] - 1s 274us/step - loss: 0.4904\n",
      "Epoch 79/200\n",
      "2580/2580 [==============================] - 1s 267us/step - loss: 0.4896\n",
      "Epoch 80/200\n",
      "2580/2580 [==============================] - 1s 267us/step - loss: 0.4935\n",
      "Epoch 81/200\n",
      "2580/2580 [==============================] - 1s 267us/step - loss: 0.4821\n",
      "Epoch 82/200\n",
      "2580/2580 [==============================] - 1s 276us/step - loss: 0.4936\n",
      "Epoch 83/200\n",
      "2580/2580 [==============================] - 1s 269us/step - loss: 0.4782\n",
      "Epoch 84/200\n",
      "2580/2580 [==============================] - 1s 273us/step - loss: 0.4955\n",
      "Epoch 85/200\n",
      "2580/2580 [==============================] - 1s 271us/step - loss: 0.4888\n",
      "Epoch 86/200\n",
      "2580/2580 [==============================] - 1s 271us/step - loss: 0.4733\n",
      "Epoch 87/200\n",
      "2580/2580 [==============================] - 1s 272us/step - loss: 0.5020\n",
      "Epoch 88/200\n",
      "2580/2580 [==============================] - 1s 273us/step - loss: 0.4961\n",
      "Epoch 89/200\n",
      "2580/2580 [==============================] - 1s 284us/step - loss: 0.4856\n",
      "Epoch 90/200\n",
      "2580/2580 [==============================] - 1s 280us/step - loss: 0.4841 0s - l\n",
      "Epoch 91/200\n",
      "2580/2580 [==============================] - 1s 276us/step - loss: 0.4834\n",
      "Epoch 92/200\n",
      "2580/2580 [==============================] - 1s 277us/step - loss: 0.4885\n",
      "Epoch 93/200\n",
      "2580/2580 [==============================] - 1s 273us/step - loss: 0.4618\n",
      "Epoch 94/200\n",
      "2580/2580 [==============================] - 1s 268us/step - loss: 0.4702\n",
      "Epoch 95/200\n",
      "2580/2580 [==============================] - 1s 274us/step - loss: 0.4757\n",
      "Epoch 96/200\n",
      "2580/2580 [==============================] - 1s 275us/step - loss: 0.4739\n",
      "Epoch 97/200\n",
      "2580/2580 [==============================] - 1s 272us/step - loss: 0.4704\n",
      "Epoch 98/200\n",
      "2580/2580 [==============================] - 1s 280us/step - loss: 0.4668\n",
      "Epoch 99/200\n",
      "2580/2580 [==============================] - 1s 274us/step - loss: 0.4760 0s - l\n",
      "Epoch 100/200\n",
      "2580/2580 [==============================] - 1s 272us/step - loss: 0.4485\n",
      "Epoch 101/200\n",
      "2580/2580 [==============================] - 1s 270us/step - loss: 0.4548\n",
      "Epoch 102/200\n",
      "2580/2580 [==============================] - 1s 275us/step - loss: 0.4612\n",
      "Epoch 103/200\n",
      "2580/2580 [==============================] - 1s 269us/step - loss: 0.4643\n",
      "Epoch 104/200\n",
      "2580/2580 [==============================] - 1s 274us/step - loss: 0.4737\n",
      "Epoch 105/200\n",
      "2580/2580 [==============================] - ETA: 0s - loss: 0.454 - 1s 274us/step - loss: 0.4544\n",
      "Epoch 106/200\n",
      "2580/2580 [==============================] - 1s 265us/step - loss: 0.4685\n",
      "Epoch 107/200\n",
      "2580/2580 [==============================] - 1s 272us/step - loss: 0.4592\n",
      "Epoch 108/200\n",
      "2580/2580 [==============================] - 1s 271us/step - loss: 0.4728\n",
      "Epoch 109/200\n",
      "2580/2580 [==============================] - 1s 271us/step - loss: 0.4640\n",
      "Epoch 110/200\n",
      "2580/2580 [==============================] - 1s 268us/step - loss: 0.4423\n",
      "Epoch 111/200\n",
      "2580/2580 [==============================] - 1s 273us/step - loss: 0.4296 0s - loss: 0.\n",
      "Epoch 112/200\n",
      "2580/2580 [==============================] - 1s 270us/step - loss: 0.4586\n",
      "Epoch 113/200\n",
      "2580/2580 [==============================] - 1s 272us/step - loss: 0.4406\n",
      "Epoch 114/200\n",
      "2580/2580 [==============================] - 1s 270us/step - loss: 0.4601\n",
      "Epoch 115/200\n",
      "2580/2580 [==============================] - 1s 271us/step - loss: 0.4478\n",
      "Epoch 116/200\n",
      "2580/2580 [==============================] - 1s 276us/step - loss: 0.4482\n",
      "Epoch 117/200\n",
      "2580/2580 [==============================] - 1s 274us/step - loss: 0.4514\n",
      "Epoch 118/200\n",
      "2580/2580 [==============================] - 1s 268us/step - loss: 0.4526\n",
      "Epoch 119/200\n",
      "2580/2580 [==============================] - ETA: 0s - loss: 0.467 - 1s 275us/step - loss: 0.4657\n",
      "Epoch 120/200\n",
      "2580/2580 [==============================] - 1s 274us/step - loss: 0.4550\n",
      "Epoch 121/200\n",
      "2580/2580 [==============================] - 1s 274us/step - loss: 0.4295\n",
      "Epoch 122/200\n",
      "2580/2580 [==============================] - 1s 270us/step - loss: 0.4462\n",
      "Epoch 123/200\n",
      "2580/2580 [==============================] - 1s 273us/step - loss: 0.4402\n",
      "Epoch 124/200\n",
      "2580/2580 [==============================] - 1s 269us/step - loss: 0.4437\n",
      "Epoch 125/200\n",
      "2580/2580 [==============================] - 1s 266us/step - loss: 0.4570\n",
      "Epoch 126/200\n",
      "2580/2580 [==============================] - 1s 269us/step - loss: 0.4353\n",
      "Epoch 127/200\n",
      "2580/2580 [==============================] - 1s 271us/step - loss: 0.4471\n",
      "Epoch 128/200\n",
      "2580/2580 [==============================] - 1s 271us/step - loss: 0.4363\n",
      "Epoch 129/200\n",
      "2580/2580 [==============================] - 1s 272us/step - loss: 0.4367\n",
      "Epoch 130/200\n",
      "2580/2580 [==============================] - 1s 272us/step - loss: 0.4476\n",
      "Epoch 131/200\n",
      "2580/2580 [==============================] - 1s 272us/step - loss: 0.4293\n",
      "Epoch 132/200\n",
      "2580/2580 [==============================] - 1s 272us/step - loss: 0.4388\n",
      "Epoch 133/200\n",
      "2580/2580 [==============================] - 1s 272us/step - loss: 0.4444\n",
      "Epoch 134/200\n",
      "2580/2580 [==============================] - 1s 274us/step - loss: 0.4217\n",
      "Epoch 135/200\n",
      "2580/2580 [==============================] - 1s 278us/step - loss: 0.4422\n",
      "Epoch 136/200\n",
      "2580/2580 [==============================] - 1s 274us/step - loss: 0.4271\n",
      "Epoch 137/200\n",
      "2580/2580 [==============================] - 1s 272us/step - loss: 0.4121\n",
      "Epoch 138/200\n",
      "2580/2580 [==============================] - 1s 274us/step - loss: 0.4288\n",
      "Epoch 139/200\n",
      "2580/2580 [==============================] - 1s 272us/step - loss: 0.4306\n",
      "Epoch 140/200\n",
      "2580/2580 [==============================] - 1s 277us/step - loss: 0.4205\n",
      "Epoch 141/200\n",
      "2580/2580 [==============================] - 1s 272us/step - loss: 0.4186\n",
      "Epoch 142/200\n",
      "2580/2580 [==============================] - 1s 270us/step - loss: 0.4247\n",
      "Epoch 143/200\n",
      "2580/2580 [==============================] - 1s 275us/step - loss: 0.4417\n",
      "Epoch 144/200\n",
      "2580/2580 [==============================] - 1s 274us/step - loss: 0.4113\n",
      "Epoch 145/200\n",
      "2580/2580 [==============================] - 1s 276us/step - loss: 0.4179\n",
      "Epoch 146/200\n",
      "2580/2580 [==============================] - 1s 274us/step - loss: 0.4147\n",
      "Epoch 147/200\n",
      "2580/2580 [==============================] - 1s 275us/step - loss: 0.4119 0s - loss: 0.413\n",
      "Epoch 148/200\n",
      "2580/2580 [==============================] - 1s 275us/step - loss: 0.4029\n",
      "Epoch 149/200\n",
      "2580/2580 [==============================] - 1s 277us/step - loss: 0.4102\n",
      "Epoch 150/200\n",
      "2580/2580 [==============================] - 1s 271us/step - loss: 0.4142\n",
      "Epoch 151/200\n",
      "2580/2580 [==============================] - 1s 273us/step - loss: 0.4233\n",
      "Epoch 152/200\n",
      "2580/2580 [==============================] - 1s 278us/step - loss: 0.4109\n",
      "Epoch 153/200\n",
      "2580/2580 [==============================] - 1s 276us/step - loss: 0.4223\n",
      "Epoch 154/200\n",
      "2580/2580 [==============================] - ETA: 0s - loss: 0.413 - 1s 292us/step - loss: 0.4118\n",
      "Epoch 155/200\n",
      "2580/2580 [==============================] - 1s 280us/step - loss: 0.3965\n",
      "Epoch 156/200\n",
      "2580/2580 [==============================] - 1s 283us/step - loss: 0.3938\n",
      "Epoch 157/200\n",
      "2580/2580 [==============================] - 1s 277us/step - loss: 0.4075\n",
      "Epoch 158/200\n",
      "2580/2580 [==============================] - 1s 274us/step - loss: 0.3774\n",
      "Epoch 159/200\n",
      "2580/2580 [==============================] - 1s 275us/step - loss: 0.3991\n",
      "Epoch 160/200\n",
      "2580/2580 [==============================] - 1s 276us/step - loss: 0.3948\n",
      "Epoch 161/200\n",
      "2580/2580 [==============================] - 1s 277us/step - loss: 0.3976\n",
      "Epoch 162/200\n",
      "2580/2580 [==============================] - 1s 272us/step - loss: 0.4059\n",
      "Epoch 163/200\n",
      "2580/2580 [==============================] - 1s 279us/step - loss: 0.3914\n",
      "Epoch 164/200\n"
     ]
    },
    {
     "name": "stdout",
     "output_type": "stream",
     "text": [
      "2580/2580 [==============================] - 1s 276us/step - loss: 0.3798\n",
      "Epoch 165/200\n",
      "2580/2580 [==============================] - 1s 277us/step - loss: 0.3841\n",
      "Epoch 166/200\n",
      "2580/2580 [==============================] - 1s 274us/step - loss: 0.3776\n",
      "Epoch 167/200\n",
      "2580/2580 [==============================] - 1s 270us/step - loss: 0.3826\n",
      "Epoch 168/200\n",
      "2580/2580 [==============================] - 1s 277us/step - loss: 0.3959\n",
      "Epoch 169/200\n",
      "2580/2580 [==============================] - 1s 274us/step - loss: 0.3742\n",
      "Epoch 170/200\n",
      "2580/2580 [==============================] - 1s 274us/step - loss: 0.3810\n",
      "Epoch 171/200\n",
      "2580/2580 [==============================] - 1s 275us/step - loss: 0.3903\n",
      "Epoch 172/200\n",
      "2580/2580 [==============================] - 1s 271us/step - loss: 0.3826\n",
      "Epoch 173/200\n",
      "2580/2580 [==============================] - 1s 270us/step - loss: 0.3749\n",
      "Epoch 174/200\n",
      "2580/2580 [==============================] - 1s 276us/step - loss: 0.3811\n",
      "Epoch 175/200\n",
      "2580/2580 [==============================] - 1s 276us/step - loss: 0.3883\n",
      "Epoch 176/200\n",
      "2580/2580 [==============================] - 1s 272us/step - loss: 0.3728\n",
      "Epoch 177/200\n",
      "2580/2580 [==============================] - 1s 275us/step - loss: 0.3821\n",
      "Epoch 178/200\n",
      "2580/2580 [==============================] - 1s 276us/step - loss: 0.3787\n",
      "Epoch 179/200\n",
      "2580/2580 [==============================] - 1s 280us/step - loss: 0.3750\n",
      "Epoch 180/200\n",
      "2580/2580 [==============================] - 1s 274us/step - loss: 0.3912\n",
      "Epoch 181/200\n",
      "2580/2580 [==============================] - 1s 281us/step - loss: 0.3746\n",
      "Epoch 182/200\n",
      "2580/2580 [==============================] - 1s 278us/step - loss: 0.3684\n",
      "Epoch 183/200\n",
      "2580/2580 [==============================] - 1s 269us/step - loss: 0.3815\n",
      "Epoch 184/200\n",
      "2580/2580 [==============================] - 1s 271us/step - loss: 0.3673\n",
      "Epoch 185/200\n",
      "2580/2580 [==============================] - 1s 274us/step - loss: 0.3729\n",
      "Epoch 186/200\n",
      "2580/2580 [==============================] - 1s 275us/step - loss: 0.3632\n",
      "Epoch 187/200\n",
      "2580/2580 [==============================] - 1s 276us/step - loss: 0.3743\n",
      "Epoch 188/200\n",
      "2580/2580 [==============================] - 1s 273us/step - loss: 0.3703\n",
      "Epoch 189/200\n",
      "2580/2580 [==============================] - 1s 275us/step - loss: 0.3589\n",
      "Epoch 190/200\n",
      "2580/2580 [==============================] - 1s 273us/step - loss: 0.3676\n",
      "Epoch 191/200\n",
      "2580/2580 [==============================] - 1s 272us/step - loss: 0.3724\n",
      "Epoch 192/200\n",
      "2580/2580 [==============================] - 1s 274us/step - loss: 0.3578\n",
      "Epoch 193/200\n",
      "2580/2580 [==============================] - 1s 273us/step - loss: 0.3831\n",
      "Epoch 194/200\n",
      "2580/2580 [==============================] - 1s 270us/step - loss: 0.3610\n",
      "Epoch 195/200\n",
      "2580/2580 [==============================] - 1s 270us/step - loss: 0.3574\n",
      "Epoch 196/200\n",
      "2580/2580 [==============================] - 1s 272us/step - loss: 0.3603\n",
      "Epoch 197/200\n",
      "2580/2580 [==============================] - 1s 281us/step - loss: 0.3584\n",
      "Epoch 198/200\n",
      "2580/2580 [==============================] - 1s 280us/step - loss: 0.3496\n",
      "Epoch 199/200\n",
      "2580/2580 [==============================] - 1s 283us/step - loss: 0.3586\n",
      "Epoch 200/200\n",
      "2580/2580 [==============================] - 1s 272us/step - loss: 0.3513\n"
     ]
    },
    {
     "data": {
      "text/plain": [
       "<keras.callbacks.History at 0x216d7393a88>"
      ]
     },
     "execution_count": 17,
     "metadata": {},
     "output_type": "execute_result"
    }
   ],
   "source": [
    "model = build_model()\n",
    "model.fit(trainX, y_train, epochs = 200, batch_size = 32)"
   ]
  },
  {
   "cell_type": "code",
   "execution_count": 18,
   "metadata": {},
   "outputs": [
    {
     "name": "stdout",
     "output_type": "stream",
     "text": [
      "_________________________________________________________________\n",
      "Layer (type)                 Output Shape              Param #   \n",
      "=================================================================\n",
      "lstm_1 (LSTM)                (None, 1, 100)            43600     \n",
      "_________________________________________________________________\n",
      "dropout_1 (Dropout)          (None, 1, 100)            0         \n",
      "_________________________________________________________________\n",
      "lstm_2 (LSTM)                (None, 100)               80400     \n",
      "_________________________________________________________________\n",
      "dropout_2 (Dropout)          (None, 100)               0         \n",
      "_________________________________________________________________\n",
      "dense_1 (Dense)              (None, 1)                 101       \n",
      "=================================================================\n",
      "Total params: 124,101\n",
      "Trainable params: 124,101\n",
      "Non-trainable params: 0\n",
      "_________________________________________________________________\n"
     ]
    }
   ],
   "source": [
    "model.summary()"
   ]
  },
  {
   "cell_type": "code",
   "execution_count": 19,
   "metadata": {},
   "outputs": [],
   "source": [
    "predicted_stock_price = model.predict(testX).flatten()"
   ]
  },
  {
   "cell_type": "code",
   "execution_count": 20,
   "metadata": {},
   "outputs": [
    {
     "data": {
      "text/plain": [
       "(456,)"
      ]
     },
     "execution_count": 20,
     "metadata": {},
     "output_type": "execute_result"
    }
   ],
   "source": [
    "predicted_stock_price.shape"
   ]
  },
  {
   "cell_type": "code",
   "execution_count": 21,
   "metadata": {},
   "outputs": [],
   "source": [
    "from sklearn.metrics import median_absolute_error as mae\n",
    "from sklearn.metrics import mean_squared_error as mse"
   ]
  },
  {
   "cell_type": "code",
   "execution_count": 22,
   "metadata": {},
   "outputs": [
    {
     "data": {
      "text/plain": [
       "0.4771560480009436"
      ]
     },
     "execution_count": 22,
     "metadata": {},
     "output_type": "execute_result"
    }
   ],
   "source": [
    "mse(y_test, predicted_stock_price)"
   ]
  },
  {
   "cell_type": "code",
   "execution_count": 23,
   "metadata": {},
   "outputs": [
    {
     "data": {
      "text/plain": [
       "0.2554176494541305"
      ]
     },
     "execution_count": 23,
     "metadata": {},
     "output_type": "execute_result"
    }
   ],
   "source": [
    "mae(y_test, predicted_stock_price)"
   ]
  },
  {
   "cell_type": "code",
   "execution_count": 24,
   "metadata": {},
   "outputs": [
    {
     "data": {
      "text/plain": [
       "0.6907648282888639"
      ]
     },
     "execution_count": 24,
     "metadata": {},
     "output_type": "execute_result"
    }
   ],
   "source": [
    "mse(y_test, predicted_stock_price, squared=False)"
   ]
  }
 ],
 "metadata": {
  "kernelspec": {
   "display_name": "Python 3",
   "language": "python",
   "name": "python3"
  },
  "language_info": {
   "codemirror_mode": {
    "name": "ipython",
    "version": 3
   },
   "file_extension": ".py",
   "mimetype": "text/x-python",
   "name": "python",
   "nbconvert_exporter": "python",
   "pygments_lexer": "ipython3",
   "version": "3.7.6"
  }
 },
 "nbformat": 4,
 "nbformat_minor": 4
}
