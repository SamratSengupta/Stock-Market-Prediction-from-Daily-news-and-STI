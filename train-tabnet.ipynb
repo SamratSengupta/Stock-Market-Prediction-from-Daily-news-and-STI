{
 "cells": [
  {
   "cell_type": "code",
   "execution_count": 1,
   "metadata": {},
   "outputs": [
    {
     "name": "stderr",
     "output_type": "stream",
     "text": [
      "C:\\softwares\\conda4.8.2-python3.7\\lib\\site-packages\\numpy\\_distributor_init.py:32: UserWarning: loaded more than 1 DLL from .libs:\n",
      "C:\\softwares\\conda4.8.2-python3.7\\lib\\site-packages\\numpy\\.libs\\libopenblas.IPBC74C7KURV7CB2PKT5Z5FNR3SIBV4J.gfortran-win_amd64.dll\n",
      "C:\\softwares\\conda4.8.2-python3.7\\lib\\site-packages\\numpy\\.libs\\libopenblas.noijjg62emaszi6nyurl6jbkm4evbgm7.gfortran-win_amd64.dll\n",
      "C:\\softwares\\conda4.8.2-python3.7\\lib\\site-packages\\numpy\\.libs\\libopenblas.PYQHXLVVQ7VESDPUVUADXEVJOBGHJPAY.gfortran-win_amd64.dll\n",
      "C:\\softwares\\conda4.8.2-python3.7\\lib\\site-packages\\numpy\\.libs\\libopenblas.TXA6YQSD3GCQQC22GEQ54J2UDCXDXHWN.gfortran-win_amd64.dll\n",
      "  stacklevel=1)\n"
     ]
    }
   ],
   "source": [
    "import os\n",
    "import gc\n",
    "from logging import getLogger, INFO, StreamHandler, FileHandler, Formatter\n",
    "from contextlib import contextmanager\n",
    "import time\n",
    "\n",
    "import numpy as np\n",
    "import pandas as pd\n",
    "import scipy as sp\n",
    "import random\n",
    "\n",
    "import matplotlib.pyplot as plt\n",
    "import seaborn as sns\n",
    "\n",
    "from functools import partial\n",
    "\n",
    "from sklearn.model_selection import StratifiedKFold, GroupKFold, KFold\n",
    "from sklearn import preprocessing\n",
    "import category_encoders as ce\n",
    "from sklearn.metrics import mean_squared_error\n",
    "\n",
    "import torch\n",
    "from sklearn.preprocessing import LabelEncoder\n",
    "\n",
    "import pandas as pd\n",
    "import numpy as np\n",
    "np.random.seed(0)\n",
    "\n",
    "from pytorch_tabnet.tab_model import TabNetRegressor ##Import Tabnet \n",
    "from sklearn.model_selection import ParameterGrid\n",
    "from pathlib import Path\n",
    "\n",
    "import warnings\n",
    "warnings.filterwarnings(\"ignore\")\n",
    "\n",
    "from sklearn.metrics import accuracy_score\n",
    "from sklearn.model_selection import train_test_split\n",
    "from matplotlib import pyplot as plt\n",
    "%matplotlib inline\n",
    "\n",
    "import os\n",
    "from pathlib import Path\n",
    "import os.path as osp\n",
    "\n",
    "from sklearn.preprocessing import StandardScaler\n",
    "from sklearn.metrics import median_absolute_error as mae\n",
    "from sklearn.metrics import mean_squared_error as mse"
   ]
  },
  {
   "cell_type": "code",
   "execution_count": 2,
   "metadata": {},
   "outputs": [],
   "source": [
    "data_path = osp.join(os.getcwd(),'Data')\n",
    "df = pd.read_csv(data_path + '/model.csv')\n",
    "df = df.drop(['Date','News','Unnamed: 0'],axis=1)"
   ]
  },
  {
   "cell_type": "code",
   "execution_count": 3,
   "metadata": {},
   "outputs": [
    {
     "data": {
      "text/html": [
       "<div>\n",
       "<style scoped>\n",
       "    .dataframe tbody tr th:only-of-type {\n",
       "        vertical-align: middle;\n",
       "    }\n",
       "\n",
       "    .dataframe tbody tr th {\n",
       "        vertical-align: top;\n",
       "    }\n",
       "\n",
       "    .dataframe thead th {\n",
       "        text-align: right;\n",
       "    }\n",
       "</style>\n",
       "<table border=\"1\" class=\"dataframe\">\n",
       "  <thead>\n",
       "    <tr style=\"text-align: right;\">\n",
       "      <th></th>\n",
       "      <th>cap</th>\n",
       "      <th>stochaistic_k_percent</th>\n",
       "      <th>stochaistic_D</th>\n",
       "      <th>Momentum</th>\n",
       "      <th>rate_of_change</th>\n",
       "      <th>William_R_percent</th>\n",
       "      <th>AD_oscillator</th>\n",
       "      <th>Disparity</th>\n",
       "    </tr>\n",
       "  </thead>\n",
       "  <tbody>\n",
       "    <tr>\n",
       "      <th>0</th>\n",
       "      <td>297.580078</td>\n",
       "      <td>93.106137</td>\n",
       "      <td>13.300877</td>\n",
       "      <td>0.000000</td>\n",
       "      <td>8649.194013</td>\n",
       "      <td>0.068939</td>\n",
       "      <td>0.068939</td>\n",
       "      <td>100.000000</td>\n",
       "    </tr>\n",
       "    <tr>\n",
       "      <th>1</th>\n",
       "      <td>52.030273</td>\n",
       "      <td>82.307244</td>\n",
       "      <td>25.059054</td>\n",
       "      <td>48.029297</td>\n",
       "      <td>24531.588728</td>\n",
       "      <td>0.176928</td>\n",
       "      <td>0.693131</td>\n",
       "      <td>100.204235</td>\n",
       "    </tr>\n",
       "    <tr>\n",
       "      <th>2</th>\n",
       "      <td>-148.890625</td>\n",
       "      <td>53.109049</td>\n",
       "      <td>32.646061</td>\n",
       "      <td>-91.850585</td>\n",
       "      <td>-12675.444285</td>\n",
       "      <td>0.468910</td>\n",
       "      <td>0.000000</td>\n",
       "      <td>99.340910</td>\n",
       "    </tr>\n",
       "    <tr>\n",
       "      <th>3</th>\n",
       "      <td>-100.739258</td>\n",
       "      <td>30.250241</td>\n",
       "      <td>36.967524</td>\n",
       "      <td>-201.360351</td>\n",
       "      <td>-5727.522774</td>\n",
       "      <td>0.697498</td>\n",
       "      <td>-0.048157</td>\n",
       "      <td>98.800097</td>\n",
       "    </tr>\n",
       "    <tr>\n",
       "      <th>4</th>\n",
       "      <td>79.139649</td>\n",
       "      <td>47.569144</td>\n",
       "      <td>43.763116</td>\n",
       "      <td>-118.390624</td>\n",
       "      <td>-9811.528393</td>\n",
       "      <td>0.524309</td>\n",
       "      <td>0.693070</td>\n",
       "      <td>99.608320</td>\n",
       "    </tr>\n",
       "  </tbody>\n",
       "</table>\n",
       "</div>"
      ],
      "text/plain": [
       "          cap  stochaistic_k_percent  stochaistic_D    Momentum  \\\n",
       "0  297.580078              93.106137      13.300877    0.000000   \n",
       "1   52.030273              82.307244      25.059054   48.029297   \n",
       "2 -148.890625              53.109049      32.646061  -91.850585   \n",
       "3 -100.739258              30.250241      36.967524 -201.360351   \n",
       "4   79.139649              47.569144      43.763116 -118.390624   \n",
       "\n",
       "   rate_of_change  William_R_percent  AD_oscillator   Disparity  \n",
       "0     8649.194013           0.068939       0.068939  100.000000  \n",
       "1    24531.588728           0.176928       0.693131  100.204235  \n",
       "2   -12675.444285           0.468910       0.000000   99.340910  \n",
       "3    -5727.522774           0.697498      -0.048157   98.800097  \n",
       "4    -9811.528393           0.524309       0.693070   99.608320  "
      ]
     },
     "execution_count": 3,
     "metadata": {},
     "output_type": "execute_result"
    }
   ],
   "source": [
    "df.head()"
   ]
  },
  {
   "cell_type": "code",
   "execution_count": 4,
   "metadata": {},
   "outputs": [],
   "source": [
    "scalar = StandardScaler()\n",
    "scaled_features = scalar.fit_transform(df.values)"
   ]
  },
  {
   "cell_type": "code",
   "execution_count": 5,
   "metadata": {},
   "outputs": [],
   "source": [
    "train = pd.DataFrame(scaled_features, index=df.index, columns=df.columns)"
   ]
  },
  {
   "cell_type": "code",
   "execution_count": 6,
   "metadata": {},
   "outputs": [],
   "source": [
    "target = 'cap'\n",
    "if \"Set\" not in train.columns:\n",
    "    train[\"Set\"] = np.random.choice([\"train\", \"valid\", \"test\"], p =[.9, .05, .05], size=(train.shape[0],))\n",
    "\n",
    "train_indices = train[train.Set==\"train\"].index\n",
    "valid_indices = train[train.Set==\"valid\"].index\n",
    "test_indices = train[train.Set==\"test\"].index"
   ]
  },
  {
   "cell_type": "code",
   "execution_count": 7,
   "metadata": {},
   "outputs": [],
   "source": [
    "for col in train.columns[train.dtypes == 'float64']:\n",
    "    train.fillna(train.loc[train_indices, col].mean(), inplace=True)"
   ]
  },
  {
   "cell_type": "code",
   "execution_count": 8,
   "metadata": {},
   "outputs": [],
   "source": [
    "unused_feat = ['Set']\n",
    "features = [ col for col in train.columns if col not in unused_feat+[target]] "
   ]
  },
  {
   "cell_type": "code",
   "execution_count": 9,
   "metadata": {},
   "outputs": [],
   "source": [
    "X_train = train[features].values[train_indices]\n",
    "y_train = train[target].values[train_indices].reshape(-1, 1)\n",
    "\n",
    "X_valid = train[features].values[valid_indices]\n",
    "y_valid = train[target].values[valid_indices].reshape(-1, 1)\n",
    "\n",
    "X_test = train[features].values[test_indices]\n",
    "y_test = train[target].values[test_indices].reshape(-1, 1)"
   ]
  },
  {
   "cell_type": "code",
   "execution_count": 10,
   "metadata": {},
   "outputs": [
    {
     "name": "stdout",
     "output_type": "stream",
     "text": [
      "Device used : cuda\n"
     ]
    }
   ],
   "source": [
    "#from model evaluation best hyper parametrs are selected for tabnet regressor\n",
    "tabnet_rg = TabNetRegressor(clip_value = 2,\n",
    "                            gamma = 2,\n",
    "                            lambda_sparse = 0.0001,\n",
    "                            momentum =0.3,\n",
    "                            n_a=24,\n",
    "                            n_d=24,\n",
    "                            n_independent = 2,\n",
    "                            n_shared=2,\n",
    "                            n_steps=3 )"
   ]
  },
  {
   "cell_type": "code",
   "execution_count": 11,
   "metadata": {},
   "outputs": [],
   "source": [
    "import os\n",
    "max_epochs = 25 if not os.getenv(\"CI\", False) else 2"
   ]
  },
  {
   "cell_type": "code",
   "execution_count": 12,
   "metadata": {},
   "outputs": [
    {
     "name": "stdout",
     "output_type": "stream",
     "text": [
      "Will train until validation stopping metric hasn't improved in 7 rounds.\n",
      "---------------------------------------\n",
      "| EPOCH |  train  |   valid  | total time (s)\n",
      "| 1     | -1.09781 |  -0.77340 |   8.4       \n",
      "| 2     | -0.62821 |  -0.39373 |   14.1      \n",
      "| 3     | -0.54271 |  -0.29938 |   19.9      \n",
      "| 4     | -0.49170 |  -0.41588 |   25.6      \n",
      "| 5     | -0.44568 |  -0.50937 |   31.2      \n",
      "| 6     | -0.43232 |  -0.37989 |   36.7      \n",
      "| 7     | -0.43537 |  -0.46190 |   43.2      \n",
      "| 8     | -0.42650 |  -0.37708 |   49.2      \n",
      "| 9     | -0.40018 |  -0.29872 |   54.7      \n",
      "| 10    | -0.41455 |  -0.31331 |   60.2      \n",
      "| 11    | -0.44231 |  -0.32354 |   65.8      \n",
      "| 12    | -0.39961 |  -0.32614 |   71.3      \n",
      "| 13    | -0.41085 |  -0.33799 |   76.8      \n",
      "| 14    | -0.40555 |  -0.28822 |   82.5      \n",
      "| 15    | -0.40277 |  -0.30068 |   88.2      \n",
      "| 16    | -0.39962 |  -0.34724 |   93.7      \n",
      "| 17    | -0.41139 |  -0.33826 |   99.2      \n",
      "| 18    | -0.38247 |  -0.39993 |   104.8     \n",
      "| 19    | -0.37992 |  -0.36926 |   110.3     \n",
      "| 20    | -0.36225 |  -0.35882 |   115.9     \n",
      "| 21    | -0.37184 |  -0.34904 |   121.6     \n",
      "Early stopping occured at epoch 21\n",
      "Training done in 121.594 seconds.\n",
      "---------------------------------------\n"
     ]
    }
   ],
   "source": [
    "tabnet_rg.fit(\n",
    "    X_train=X_train, y_train=y_train, \n",
    "    X_valid=X_valid, y_valid=y_valid,\n",
    "    max_epochs=max_epochs,\n",
    "    patience=7,\n",
    "    batch_size=128, \n",
    "    num_workers=4,\n",
    "    drop_last=False\n",
    ")"
   ]
  },
  {
   "cell_type": "code",
   "execution_count": 13,
   "metadata": {},
   "outputs": [
    {
     "data": {
      "text/plain": [
       "[<matplotlib.lines.Line2D at 0x13577735088>]"
      ]
     },
     "execution_count": 13,
     "metadata": {},
     "output_type": "execute_result"
    },
    {
     "data": {
      "image/png": "[encoded data removed]",
      "text/plain": [
       "<Figure size 432x288 with 1 Axes>"
      ]
     },
     "metadata": {
      "needs_background": "light"
     },
     "output_type": "display_data"
    }
   ],
   "source": [
    "# plot losses\n",
    "plt.plot(tabnet_rg.history['train']['loss'])\n",
    "plt.plot(tabnet_rg.history['valid']['loss'])"
   ]
  },
  {
   "cell_type": "code",
   "execution_count": 14,
   "metadata": {},
   "outputs": [
    {
     "data": {
      "text/plain": [
       "[<matplotlib.lines.Line2D at 0x1357b956fc8>]"
      ]
     },
     "execution_count": 14,
     "metadata": {},
     "output_type": "execute_result"
    },
    {
     "data": {
      "image/png": "[encoded data removed]",
      "text/plain": [
       "<Figure size 432x288 with 1 Axes>"
      ]
     },
     "metadata": {
      "needs_background": "light"
     },
     "output_type": "display_data"
    }
   ],
   "source": [
    "# plot accuracies\n",
    "plt.plot([-x for x in tabnet_rg.history['train']['metric']])\n",
    "plt.plot([-x for x in tabnet_rg.history['valid']['metric']])"
   ]
  },
  {
   "cell_type": "code",
   "execution_count": 15,
   "metadata": {},
   "outputs": [],
   "source": [
    "y_pred = tabnet_rg.predict(X_test)    \n",
    "t_rmse = mse(y_test, y_pred,squared=False)    \n",
    "t_mae = mae(y_test, y_pred)"
   ]
  },
  {
   "cell_type": "code",
   "execution_count": 16,
   "metadata": {},
   "outputs": [
    {
     "data": {
      "text/plain": [
       "(0.6549360260338464, 0.3349110300856572)"
      ]
     },
     "execution_count": 16,
     "metadata": {},
     "output_type": "execute_result"
    }
   ],
   "source": [
    "t_rmse,t_mae"
   ]
  },
  {
   "cell_type": "code",
   "execution_count": 17,
   "metadata": {},
   "outputs": [],
   "source": [
    "datapoints = [i for i in range(0,len(y_test))]\n",
    "main_df = pd.DataFrame.from_dict({'days':datapoints,'test values' :y_test.flatten(),'predicted values' : y_pred.flatten() })"
   ]
  },
  {
   "cell_type": "code",
   "execution_count": 18,
   "metadata": {},
   "outputs": [
    {
     "data": {
      "text/plain": [
       "<matplotlib.legend.Legend at 0x1358a8126c8>"
      ]
     },
     "execution_count": 18,
     "metadata": {},
     "output_type": "execute_result"
    },
    {
     "data": {
      "text/plain": [
       "<Figure size 1152x864 with 0 Axes>"
      ]
     },
     "metadata": {},
     "output_type": "display_data"
    },
    {
     "data": {
      "image/png": "[encoded data removed]",
      "text/plain": [
       "<Figure size 432x288 with 1 Axes>"
      ]
     },
     "metadata": {
      "needs_background": "light"
     },
     "output_type": "display_data"
    }
   ],
   "source": [
    "plt.figure().set_size_inches(16,12)\n",
    "main_df.plot(label='test values',y='test values',x='days')\n",
    "main_df['predicted values'].plot(label='predicted values')\n",
    "\n",
    "plt.legend()"
   ]
  },
  {
   "cell_type": "code",
   "execution_count": 19,
   "metadata": {},
   "outputs": [],
   "source": [
    "model_path = osp.join(os.getcwd(),'Models')\n",
    "torch.save(tabnet_rg, model_path + '/tabnet.pt')"
   ]
  },
  {
   "cell_type": "code",
   "execution_count": 20,
   "metadata": {},
   "outputs": [],
   "source": [
    "from pickle import dump\n",
    "dump(scalar, open(model_path + '/tabnet-scaler.pkl', 'wb'))"
   ]
  }
 ],
 "metadata": {
  "kernelspec": {
   "display_name": "Python 3",
   "language": "python",
   "name": "python3"
  },
  "language_info": {
   "codemirror_mode": {
    "name": "ipython",
    "version": 3
   },
   "file_extension": ".py",
   "mimetype": "text/x-python",
   "name": "python",
   "nbconvert_exporter": "python",
   "pygments_lexer": "ipython3",
   "version": "3.7.6"
  }
 },
 "nbformat": 4,
 "nbformat_minor": 4
}
