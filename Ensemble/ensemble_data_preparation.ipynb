{
 "cells": [
  {
   "cell_type": "code",
   "execution_count": 65,
   "metadata": {},
   "outputs": [],
   "source": [
    "import pandas as pd\n",
    "import numpy as np\n",
    "import tensorflow as tf\n",
    "import re\n",
    "import nltk\n",
    "from nltk.corpus import stopwords\n",
    "from sklearn.model_selection import train_test_split\n",
    "from sklearn.metrics import median_absolute_error as mae\n",
    "from sklearn.metrics import mean_squared_error as mse\n",
    "from sklearn.metrics import r2_score\n",
    "import matplotlib.pyplot as plt\n",
    "import os\n",
    "from pathlib import Path\n",
    "import os.path as osp"
   ]
  },
  {
   "cell_type": "code",
   "execution_count": 66,
   "metadata": {},
   "outputs": [],
   "source": [
    "#Since its a forecasting problem we will divide the data in the ratio 80:15:5 for model training,\n",
    "#preparing ensemble test results and testing of ensembling results"
   ]
  },
  {
   "cell_type": "code",
   "execution_count": 67,
   "metadata": {},
   "outputs": [],
   "source": [
    "data_path = osp.join(Path(os.getcwd()).parent,'Data')"
   ]
  },
  {
   "cell_type": "code",
   "execution_count": 68,
   "metadata": {},
   "outputs": [],
   "source": [
    "dj = pd.read_csv(data_path + \"/stock_indicators.csv\")\n",
    "news = pd.read_csv(data_path + \"/news_modified.csv\")"
   ]
  },
  {
   "cell_type": "code",
   "execution_count": 69,
   "metadata": {},
   "outputs": [
    {
     "data": {
      "text/html": [
       "<div>\n",
       "<style scoped>\n",
       "    .dataframe tbody tr th:only-of-type {\n",
       "        vertical-align: middle;\n",
       "    }\n",
       "\n",
       "    .dataframe tbody tr th {\n",
       "        vertical-align: top;\n",
       "    }\n",
       "\n",
       "    .dataframe thead th {\n",
       "        text-align: right;\n",
       "    }\n",
       "</style>\n",
       "<table border=\"1\" class=\"dataframe\">\n",
       "  <thead>\n",
       "    <tr style=\"text-align: right;\">\n",
       "      <th></th>\n",
       "      <th>Date</th>\n",
       "      <th>cap</th>\n",
       "      <th>stochaistic_k_percent</th>\n",
       "      <th>stochaistic_D</th>\n",
       "      <th>Momentum</th>\n",
       "      <th>rate_of_change</th>\n",
       "      <th>William_R_percent</th>\n",
       "      <th>AD_oscillator</th>\n",
       "      <th>Disparity</th>\n",
       "    </tr>\n",
       "  </thead>\n",
       "  <tbody>\n",
       "    <tr>\n",
       "      <th>0</th>\n",
       "      <td>08-08-2008</td>\n",
       "      <td>297.580078</td>\n",
       "      <td>93.106137</td>\n",
       "      <td>13.300877</td>\n",
       "      <td>0.000000</td>\n",
       "      <td>8649.194013</td>\n",
       "      <td>0.068939</td>\n",
       "      <td>0.068939</td>\n",
       "      <td>100.000000</td>\n",
       "    </tr>\n",
       "    <tr>\n",
       "      <th>1</th>\n",
       "      <td>11-08-2008</td>\n",
       "      <td>52.030273</td>\n",
       "      <td>82.307244</td>\n",
       "      <td>25.059054</td>\n",
       "      <td>48.029297</td>\n",
       "      <td>24531.588730</td>\n",
       "      <td>0.176928</td>\n",
       "      <td>0.693131</td>\n",
       "      <td>100.204235</td>\n",
       "    </tr>\n",
       "    <tr>\n",
       "      <th>2</th>\n",
       "      <td>12-08-2008</td>\n",
       "      <td>-148.890625</td>\n",
       "      <td>53.109049</td>\n",
       "      <td>32.646061</td>\n",
       "      <td>-91.850585</td>\n",
       "      <td>-12675.444280</td>\n",
       "      <td>0.468910</td>\n",
       "      <td>0.000000</td>\n",
       "      <td>99.340910</td>\n",
       "    </tr>\n",
       "    <tr>\n",
       "      <th>3</th>\n",
       "      <td>13-08-2008</td>\n",
       "      <td>-100.739258</td>\n",
       "      <td>30.250241</td>\n",
       "      <td>36.967524</td>\n",
       "      <td>-201.360351</td>\n",
       "      <td>-5727.522774</td>\n",
       "      <td>0.697498</td>\n",
       "      <td>-0.048157</td>\n",
       "      <td>98.800097</td>\n",
       "    </tr>\n",
       "    <tr>\n",
       "      <th>4</th>\n",
       "      <td>14-08-2008</td>\n",
       "      <td>79.139649</td>\n",
       "      <td>47.569144</td>\n",
       "      <td>43.763116</td>\n",
       "      <td>-118.390624</td>\n",
       "      <td>-9811.528393</td>\n",
       "      <td>0.524309</td>\n",
       "      <td>0.693070</td>\n",
       "      <td>99.608320</td>\n",
       "    </tr>\n",
       "  </tbody>\n",
       "</table>\n",
       "</div>"
      ],
      "text/plain": [
       "         Date         cap  stochaistic_k_percent  stochaistic_D    Momentum  \\\n",
       "0  08-08-2008  297.580078              93.106137      13.300877    0.000000   \n",
       "1  11-08-2008   52.030273              82.307244      25.059054   48.029297   \n",
       "2  12-08-2008 -148.890625              53.109049      32.646061  -91.850585   \n",
       "3  13-08-2008 -100.739258              30.250241      36.967524 -201.360351   \n",
       "4  14-08-2008   79.139649              47.569144      43.763116 -118.390624   \n",
       "\n",
       "   rate_of_change  William_R_percent  AD_oscillator   Disparity  \n",
       "0     8649.194013           0.068939       0.068939  100.000000  \n",
       "1    24531.588730           0.176928       0.693131  100.204235  \n",
       "2   -12675.444280           0.468910       0.000000   99.340910  \n",
       "3    -5727.522774           0.697498      -0.048157   98.800097  \n",
       "4    -9811.528393           0.524309       0.693070   99.608320  "
      ]
     },
     "execution_count": 69,
     "metadata": {},
     "output_type": "execute_result"
    }
   ],
   "source": [
    "dj.head()"
   ]
  },
  {
   "cell_type": "code",
   "execution_count": 70,
   "metadata": {},
   "outputs": [],
   "source": [
    "from dataPreparation import clean_text,decontracted\n",
    "from utils import merge_headlines,normalize_price"
   ]
  },
  {
   "cell_type": "code",
   "execution_count": 71,
   "metadata": {},
   "outputs": [
    {
     "name": "stdout",
     "output_type": "stream",
     "text": [
      "headlines length  3036\n"
     ]
    }
   ],
   "source": [
    "all_headlines,price,dates = merge_headlines(dj,news,max_headline_length = 20,max_daily_length = 400)                    "
   ]
  },
  {
   "cell_type": "code",
   "execution_count": 72,
   "metadata": {},
   "outputs": [],
   "source": [
    "df = pd.DataFrame.from_dict({'Date': dates,'News': all_headlines })"
   ]
  },
  {
   "cell_type": "code",
   "execution_count": 73,
   "metadata": {},
   "outputs": [],
   "source": [
    "df_merge = pd.merge(df, dj, on='Date')"
   ]
  },
  {
   "cell_type": "code",
   "execution_count": 74,
   "metadata": {},
   "outputs": [],
   "source": [
    "#Now we will create ensemble-train,ensemble-valid and ensemble-test data on this merged dataframe in the ratio 0.8/0.15/0.05 hence\n",
    "#we will take first 80% rows for training next 15% for ensemble-validation and last 5% for ensemble result publication\n",
    "ensemble_train,ensemble_rem = np.split(df_merge, [int(.8*len(df_merge))])"
   ]
  },
  {
   "cell_type": "code",
   "execution_count": 77,
   "metadata": {},
   "outputs": [],
   "source": [
    "ensemble_valid,ensemble_test = np.split(ensemble_rem, [int(.75*len(ensemble_rem))])"
   ]
  },
  {
   "cell_type": "code",
   "execution_count": null,
   "metadata": {},
   "outputs": [],
   "source": [
    "ensemble_train.to_csv(data_path + '/ensemble_train.csv')\n",
    "ensemble_test.to_csv(data_path + '/ensemble_test.csv')\n",
    "ensemble_test.to_csv(data_path + '/ensemble_test.csv')"
   ]
  }
 ],
 "metadata": {
  "kernelspec": {
   "display_name": "Python 3",
   "language": "python",
   "name": "python3"
  },
  "language_info": {
   "codemirror_mode": {
    "name": "ipython",
    "version": 3
   },
   "file_extension": ".py",
   "mimetype": "text/x-python",
   "name": "python",
   "nbconvert_exporter": "python",
   "pygments_lexer": "ipython3",
   "version": "3.7.6"
  }
 },
 "nbformat": 4,
 "nbformat_minor": 4
}
