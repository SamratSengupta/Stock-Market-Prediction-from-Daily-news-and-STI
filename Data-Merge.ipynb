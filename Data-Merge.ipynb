{
 "cells": [
  {
   "cell_type": "code",
   "execution_count": 1,
   "metadata": {},
   "outputs": [
    {
     "name": "stderr",
     "output_type": "stream",
     "text": [
      "C:\\softwares\\conda4.8.2-python3.7\\lib\\site-packages\\numpy\\_distributor_init.py:32: UserWarning: loaded more than 1 DLL from .libs:\n",
      "C:\\softwares\\conda4.8.2-python3.7\\lib\\site-packages\\numpy\\.libs\\libopenblas.IPBC74C7KURV7CB2PKT5Z5FNR3SIBV4J.gfortran-win_amd64.dll\n",
      "C:\\softwares\\conda4.8.2-python3.7\\lib\\site-packages\\numpy\\.libs\\libopenblas.noijjg62emaszi6nyurl6jbkm4evbgm7.gfortran-win_amd64.dll\n",
      "C:\\softwares\\conda4.8.2-python3.7\\lib\\site-packages\\numpy\\.libs\\libopenblas.PYQHXLVVQ7VESDPUVUADXEVJOBGHJPAY.gfortran-win_amd64.dll\n",
      "C:\\softwares\\conda4.8.2-python3.7\\lib\\site-packages\\numpy\\.libs\\libopenblas.TXA6YQSD3GCQQC22GEQ54J2UDCXDXHWN.gfortran-win_amd64.dll\n",
      "  stacklevel=1)\n"
     ]
    }
   ],
   "source": [
    "import pandas as pd\n",
    "from datetime import date, timedelta,datetime as dt\n",
    "import os\n",
    "import os.path as osp\n",
    "from pathlib import Path\n"
   ]
  },
  {
   "cell_type": "code",
   "execution_count": 2,
   "metadata": {},
   "outputs": [],
   "source": [
    "data_path = osp.join(os.getcwd(),'Data')"
   ]
  },
  {
   "cell_type": "code",
   "execution_count": 3,
   "metadata": {},
   "outputs": [
    {
     "data": {
      "text/plain": [
       "'C:\\\\work\\\\LJMU-THESIS\\\\FINAL\\\\practical\\\\Data'"
      ]
     },
     "execution_count": 3,
     "metadata": {},
     "output_type": "execute_result"
    }
   ],
   "source": [
    "data_path"
   ]
  },
  {
   "cell_type": "code",
   "execution_count": 4,
   "metadata": {},
   "outputs": [],
   "source": [
    "df_2016 = pd.read_csv(data_path + '/reddit-yearly-download/news_2016.csv')"
   ]
  },
  {
   "cell_type": "code",
   "execution_count": 5,
   "metadata": {},
   "outputs": [],
   "source": [
    "df_2017 = pd.read_csv(data_path + '/reddit-yearly-download/news_2017.csv')"
   ]
  },
  {
   "cell_type": "code",
   "execution_count": 6,
   "metadata": {},
   "outputs": [],
   "source": [
    "df_2018 = pd.read_csv(data_path + '/reddit-yearly-download/news_2018.csv')"
   ]
  },
  {
   "cell_type": "code",
   "execution_count": 7,
   "metadata": {},
   "outputs": [],
   "source": [
    "df_2019 = pd.read_csv(data_path + '/reddit-yearly-download/news_2019.csv')"
   ]
  },
  {
   "cell_type": "code",
   "execution_count": 8,
   "metadata": {},
   "outputs": [
    {
     "data": {
      "text/html": [
       "<div>\n",
       "<style scoped>\n",
       "    .dataframe tbody tr th:only-of-type {\n",
       "        vertical-align: middle;\n",
       "    }\n",
       "\n",
       "    .dataframe tbody tr th {\n",
       "        vertical-align: top;\n",
       "    }\n",
       "\n",
       "    .dataframe thead th {\n",
       "        text-align: right;\n",
       "    }\n",
       "</style>\n",
       "<table border=\"1\" class=\"dataframe\">\n",
       "  <thead>\n",
       "    <tr style=\"text-align: right;\">\n",
       "      <th></th>\n",
       "      <th>Unnamed: 0</th>\n",
       "      <th>date</th>\n",
       "      <th>title</th>\n",
       "      <th>score</th>\n",
       "    </tr>\n",
       "  </thead>\n",
       "  <tbody>\n",
       "    <tr>\n",
       "      <th>0</th>\n",
       "      <td>0</td>\n",
       "      <td>2019-01-01</td>\n",
       "      <td>Putin Claimed His Hypersonic Missiles Were Inv...</td>\n",
       "      <td>1</td>\n",
       "    </tr>\n",
       "    <tr>\n",
       "      <th>1</th>\n",
       "      <td>1</td>\n",
       "      <td>2019-01-01</td>\n",
       "      <td>Antonio Brown Responds to George Kittle Recrui...</td>\n",
       "      <td>1</td>\n",
       "    </tr>\n",
       "    <tr>\n",
       "      <th>2</th>\n",
       "      <td>2</td>\n",
       "      <td>2019-01-01</td>\n",
       "      <td>Fiesta Bowl Live: LSU Takes on Unbeaten UCF</td>\n",
       "      <td>1</td>\n",
       "    </tr>\n",
       "    <tr>\n",
       "      <th>3</th>\n",
       "      <td>3</td>\n",
       "      <td>2019-01-01</td>\n",
       "      <td>Israel's opposition alliance disbands months b...</td>\n",
       "      <td>1</td>\n",
       "    </tr>\n",
       "    <tr>\n",
       "      <th>4</th>\n",
       "      <td>4</td>\n",
       "      <td>2019-01-01</td>\n",
       "      <td>DRC electoral fraud fears rise as internet shu...</td>\n",
       "      <td>1</td>\n",
       "    </tr>\n",
       "    <tr>\n",
       "      <th>...</th>\n",
       "      <td>...</td>\n",
       "      <td>...</td>\n",
       "      <td>...</td>\n",
       "      <td>...</td>\n",
       "    </tr>\n",
       "    <tr>\n",
       "      <th>7555</th>\n",
       "      <td>7555</td>\n",
       "      <td>2019-12-30</td>\n",
       "      <td>Australia: Fires worsen and reach Melbourne su...</td>\n",
       "      <td>1</td>\n",
       "    </tr>\n",
       "    <tr>\n",
       "      <th>7556</th>\n",
       "      <td>7556</td>\n",
       "      <td>2019-12-30</td>\n",
       "      <td>Scientists Use Recycled Sewage Water to Grow 5...</td>\n",
       "      <td>1</td>\n",
       "    </tr>\n",
       "    <tr>\n",
       "      <th>7557</th>\n",
       "      <td>7557</td>\n",
       "      <td>2019-12-30</td>\n",
       "      <td>New Year's fireworks OK'd in Sydney as wildfir...</td>\n",
       "      <td>1</td>\n",
       "    </tr>\n",
       "    <tr>\n",
       "      <th>7558</th>\n",
       "      <td>7558</td>\n",
       "      <td>2019-12-30</td>\n",
       "      <td>The top most inspiring books for you to read, ...</td>\n",
       "      <td>1</td>\n",
       "    </tr>\n",
       "    <tr>\n",
       "      <th>7559</th>\n",
       "      <td>7559</td>\n",
       "      <td>2019-12-30</td>\n",
       "      <td>India’s rape epidemic- What is behind India’s ...</td>\n",
       "      <td>1</td>\n",
       "    </tr>\n",
       "  </tbody>\n",
       "</table>\n",
       "<p>7560 rows × 4 columns</p>\n",
       "</div>"
      ],
      "text/plain": [
       "      Unnamed: 0        date  \\\n",
       "0              0  2019-01-01   \n",
       "1              1  2019-01-01   \n",
       "2              2  2019-01-01   \n",
       "3              3  2019-01-01   \n",
       "4              4  2019-01-01   \n",
       "...          ...         ...   \n",
       "7555        7555  2019-12-30   \n",
       "7556        7556  2019-12-30   \n",
       "7557        7557  2019-12-30   \n",
       "7558        7558  2019-12-30   \n",
       "7559        7559  2019-12-30   \n",
       "\n",
       "                                                  title  score  \n",
       "0     Putin Claimed His Hypersonic Missiles Were Inv...      1  \n",
       "1     Antonio Brown Responds to George Kittle Recrui...      1  \n",
       "2           Fiesta Bowl Live: LSU Takes on Unbeaten UCF      1  \n",
       "3     Israel's opposition alliance disbands months b...      1  \n",
       "4     DRC electoral fraud fears rise as internet shu...      1  \n",
       "...                                                 ...    ...  \n",
       "7555  Australia: Fires worsen and reach Melbourne su...      1  \n",
       "7556  Scientists Use Recycled Sewage Water to Grow 5...      1  \n",
       "7557  New Year's fireworks OK'd in Sydney as wildfir...      1  \n",
       "7558  The top most inspiring books for you to read, ...      1  \n",
       "7559  India’s rape epidemic- What is behind India’s ...      1  \n",
       "\n",
       "[7560 rows x 4 columns]"
      ]
     },
     "execution_count": 8,
     "metadata": {},
     "output_type": "execute_result"
    }
   ],
   "source": [
    "df_2019"
   ]
  },
  {
   "cell_type": "code",
   "execution_count": 10,
   "metadata": {},
   "outputs": [],
   "source": [
    "df_2020 = pd.read_csv(data_path + '/reddit-yearly-download/news_2020.csv')"
   ]
  },
  {
   "cell_type": "code",
   "execution_count": 9,
   "metadata": {},
   "outputs": [
    {
     "data": {
      "text/html": [
       "<div>\n",
       "<style scoped>\n",
       "    .dataframe tbody tr th:only-of-type {\n",
       "        vertical-align: middle;\n",
       "    }\n",
       "\n",
       "    .dataframe tbody tr th {\n",
       "        vertical-align: top;\n",
       "    }\n",
       "\n",
       "    .dataframe thead th {\n",
       "        text-align: right;\n",
       "    }\n",
       "</style>\n",
       "<table border=\"1\" class=\"dataframe\">\n",
       "  <thead>\n",
       "    <tr style=\"text-align: right;\">\n",
       "      <th></th>\n",
       "      <th>Unnamed: 0</th>\n",
       "      <th>date</th>\n",
       "      <th>title</th>\n",
       "      <th>score</th>\n",
       "    </tr>\n",
       "  </thead>\n",
       "  <tbody>\n",
       "    <tr>\n",
       "      <th>0</th>\n",
       "      <td>0</td>\n",
       "      <td>2020-01-01</td>\n",
       "      <td>Impeachment Proceedings to be started against ...</td>\n",
       "      <td>1</td>\n",
       "    </tr>\n",
       "    <tr>\n",
       "      <th>1</th>\n",
       "      <td>1</td>\n",
       "      <td>2020-01-01</td>\n",
       "      <td>Police in Uttar Pradesh, India accused of stri...</td>\n",
       "      <td>1</td>\n",
       "    </tr>\n",
       "    <tr>\n",
       "      <th>2</th>\n",
       "      <td>2</td>\n",
       "      <td>2020-01-01</td>\n",
       "      <td>Carlos Ghosn: Ex-Nissan boss escaped Japan in ...</td>\n",
       "      <td>1</td>\n",
       "    </tr>\n",
       "    <tr>\n",
       "      <th>3</th>\n",
       "      <td>3</td>\n",
       "      <td>2020-01-01</td>\n",
       "      <td>Youths hurl punches, anti-Semitic slurs in Ven...</td>\n",
       "      <td>1</td>\n",
       "    </tr>\n",
       "    <tr>\n",
       "      <th>4</th>\n",
       "      <td>4</td>\n",
       "      <td>2020-01-01</td>\n",
       "      <td>Iraq riots expose an America weaker and with f...</td>\n",
       "      <td>1</td>\n",
       "    </tr>\n",
       "    <tr>\n",
       "      <th>...</th>\n",
       "      <td>...</td>\n",
       "      <td>...</td>\n",
       "      <td>...</td>\n",
       "      <td>...</td>\n",
       "    </tr>\n",
       "    <tr>\n",
       "      <th>5490</th>\n",
       "      <td>2515</td>\n",
       "      <td>2020-12-04</td>\n",
       "      <td>Learn how to Allow Parental Controls in Discord</td>\n",
       "      <td>1</td>\n",
       "    </tr>\n",
       "    <tr>\n",
       "      <th>5491</th>\n",
       "      <td>2516</td>\n",
       "      <td>2020-12-04</td>\n",
       "      <td>Sub waday mery khudhwand k sachy hein Masih ge...</td>\n",
       "      <td>1</td>\n",
       "    </tr>\n",
       "    <tr>\n",
       "      <th>5492</th>\n",
       "      <td>2517</td>\n",
       "      <td>2020-12-04</td>\n",
       "      <td>Law enforcement and security officials reveal ...</td>\n",
       "      <td>1</td>\n",
       "    </tr>\n",
       "    <tr>\n",
       "      <th>5493</th>\n",
       "      <td>2518</td>\n",
       "      <td>2020-12-04</td>\n",
       "      <td>Taiwan fights on 3 fronts china, Corona &amp;amp; ...</td>\n",
       "      <td>1</td>\n",
       "    </tr>\n",
       "    <tr>\n",
       "      <th>5494</th>\n",
       "      <td>2519</td>\n",
       "      <td>2020-12-04</td>\n",
       "      <td>Fauci: Coronavirus immunity cards for American...</td>\n",
       "      <td>1</td>\n",
       "    </tr>\n",
       "  </tbody>\n",
       "</table>\n",
       "<p>5495 rows × 4 columns</p>\n",
       "</div>"
      ],
      "text/plain": [
       "      Unnamed: 0        date  \\\n",
       "0              0  2020-01-01   \n",
       "1              1  2020-01-01   \n",
       "2              2  2020-01-01   \n",
       "3              3  2020-01-01   \n",
       "4              4  2020-01-01   \n",
       "...          ...         ...   \n",
       "5490        2515  2020-12-04   \n",
       "5491        2516  2020-12-04   \n",
       "5492        2517  2020-12-04   \n",
       "5493        2518  2020-12-04   \n",
       "5494        2519  2020-12-04   \n",
       "\n",
       "                                                  title  score  \n",
       "0     Impeachment Proceedings to be started against ...      1  \n",
       "1     Police in Uttar Pradesh, India accused of stri...      1  \n",
       "2     Carlos Ghosn: Ex-Nissan boss escaped Japan in ...      1  \n",
       "3     Youths hurl punches, anti-Semitic slurs in Ven...      1  \n",
       "4     Iraq riots expose an America weaker and with f...      1  \n",
       "...                                                 ...    ...  \n",
       "5490    Learn how to Allow Parental Controls in Discord      1  \n",
       "5491  Sub waday mery khudhwand k sachy hein Masih ge...      1  \n",
       "5492  Law enforcement and security officials reveal ...      1  \n",
       "5493  Taiwan fights on 3 fronts china, Corona &amp; ...      1  \n",
       "5494  Fauci: Coronavirus immunity cards for American...      1  \n",
       "\n",
       "[5495 rows x 4 columns]"
      ]
     },
     "execution_count": 9,
     "metadata": {},
     "output_type": "execute_result"
    }
   ],
   "source": [
    "df_2020"
   ]
  },
  {
   "cell_type": "code",
   "execution_count": 14,
   "metadata": {},
   "outputs": [],
   "source": [
    "frames = [df_2020, df_2019,df_2018,df_2017,df_2016]\n",
    "result = pd.concat(frames)\n",
    "result['Date'] = pd.to_datetime(result['date'])\n",
    "result = result.sort_values(by=['Date','score'],ascending=[True, False])"
   ]
  },
  {
   "cell_type": "code",
   "execution_count": 15,
   "metadata": {},
   "outputs": [],
   "source": [
    "result.drop(['Unnamed: 0', 'date','score'], axis=1, inplace=True)"
   ]
  },
  {
   "cell_type": "code",
   "execution_count": 16,
   "metadata": {},
   "outputs": [],
   "source": [
    "result['News'] = result['title']"
   ]
  },
  {
   "cell_type": "code",
   "execution_count": 17,
   "metadata": {},
   "outputs": [],
   "source": [
    "result.drop(['title'], axis=1, inplace=True)"
   ]
  },
  {
   "cell_type": "code",
   "execution_count": 18,
   "metadata": {},
   "outputs": [],
   "source": [
    "result['Date'] = result['Date'].dt.date"
   ]
  },
  {
   "cell_type": "code",
   "execution_count": 19,
   "metadata": {},
   "outputs": [],
   "source": [
    "main_df = pd.read_csv(data_path + '/News.csv')"
   ]
  },
  {
   "cell_type": "code",
   "execution_count": 20,
   "metadata": {},
   "outputs": [],
   "source": [
    "main_df['Date'] = pd.to_datetime(main_df['Date'])\n",
    "main_df['Date'] = main_df['Date'].dt.date"
   ]
  },
  {
   "cell_type": "code",
   "execution_count": 21,
   "metadata": {},
   "outputs": [],
   "source": [
    "main_df = main_df.sort_values(by=['Date'],ascending=[True])"
   ]
  },
  {
   "cell_type": "code",
   "execution_count": 22,
   "metadata": {},
   "outputs": [],
   "source": [
    "merged_df = pd.concat([main_df,result])"
   ]
  },
  {
   "cell_type": "code",
   "execution_count": 23,
   "metadata": {},
   "outputs": [],
   "source": [
    "merged_df.to_csv(data_path + '/news_modified.csv')"
   ]
  },
  {
   "cell_type": "code",
   "execution_count": 6,
   "metadata": {},
   "outputs": [],
   "source": [
    "dji_org = pd.read_csv(data_path + '/DowJones.csv')\n",
    "dji_new = pd.read_csv(data_path + '/DJI.csv')"
   ]
  },
  {
   "cell_type": "code",
   "execution_count": 7,
   "metadata": {},
   "outputs": [],
   "source": [
    "dji_mod = pd.concat([dji_org,dji_new])"
   ]
  },
  {
   "cell_type": "code",
   "execution_count": 9,
   "metadata": {},
   "outputs": [],
   "source": [
    "dji_mod['Date'] = pd.to_datetime(dji_mod['Date'])"
   ]
  },
  {
   "cell_type": "code",
   "execution_count": 10,
   "metadata": {},
   "outputs": [],
   "source": [
    "dji_mod = dji_mod.sort_values(by=['Date'],ascending=[True])"
   ]
  },
  {
   "cell_type": "code",
   "execution_count": null,
   "metadata": {},
   "outputs": [],
   "source": [
    "dji_mod.to_csv()"
   ]
  }
 ],
 "metadata": {
  "kernelspec": {
   "display_name": "Python 3",
   "language": "python",
   "name": "python3"
  },
  "language_info": {
   "codemirror_mode": {
    "name": "ipython",
    "version": 3
   },
   "file_extension": ".py",
   "mimetype": "text/x-python",
   "name": "python",
   "nbconvert_exporter": "python",
   "pygments_lexer": "ipython3",
   "version": "3.7.6"
  }
 },
 "nbformat": 4,
 "nbformat_minor": 4
}
