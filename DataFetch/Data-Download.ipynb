{
 "cells": [
  {
   "cell_type": "code",
   "execution_count": 1,
   "metadata": {},
   "outputs": [
    {
     "name": "stderr",
     "output_type": "stream",
     "text": [
      "C:\\softwares\\conda4.8.2-python3.7\\lib\\site-packages\\numpy\\_distributor_init.py:32: UserWarning: loaded more than 1 DLL from .libs:\n",
      "C:\\softwares\\conda4.8.2-python3.7\\lib\\site-packages\\numpy\\.libs\\libopenblas.IPBC74C7KURV7CB2PKT5Z5FNR3SIBV4J.gfortran-win_amd64.dll\n",
      "C:\\softwares\\conda4.8.2-python3.7\\lib\\site-packages\\numpy\\.libs\\libopenblas.noijjg62emaszi6nyurl6jbkm4evbgm7.gfortran-win_amd64.dll\n",
      "C:\\softwares\\conda4.8.2-python3.7\\lib\\site-packages\\numpy\\.libs\\libopenblas.PYQHXLVVQ7VESDPUVUADXEVJOBGHJPAY.gfortran-win_amd64.dll\n",
      "C:\\softwares\\conda4.8.2-python3.7\\lib\\site-packages\\numpy\\.libs\\libopenblas.TXA6YQSD3GCQQC22GEQ54J2UDCXDXHWN.gfortran-win_amd64.dll\n",
      "  stacklevel=1)\n"
     ]
    }
   ],
   "source": [
    "from psaw import PushshiftAPI\n",
    "import pandas as pd\n",
    "from datetime import date, timedelta,datetime as dt\n",
    "import concurrent.futures"
   ]
  },
  {
   "cell_type": "code",
   "execution_count": 2,
   "metadata": {},
   "outputs": [],
   "source": [
    "import os\n",
    "import os.path as osp\n",
    "from pathlib import Path"
   ]
  },
  {
   "cell_type": "code",
   "execution_count": 3,
   "metadata": {},
   "outputs": [],
   "source": [
    "#manually downloaded data from kaggle\n",
    "#df_main = pd.read_csv('news.csv')\n",
    "#df_main.sort('date')\n",
    "data_path = osp.join(Path(os.getcwd()).parent,'Data')"
   ]
  },
  {
   "cell_type": "code",
   "execution_count": 4,
   "metadata": {},
   "outputs": [],
   "source": [
    "api = PushshiftAPI()"
   ]
  },
  {
   "cell_type": "code",
   "execution_count": 5,
   "metadata": {},
   "outputs": [],
   "source": [
    "def fetch_reddit_data(time_frame):\n",
    "    topics_lst = []\n",
    "    \n",
    "    after_epoch  =   int(time_frame[0].timestamp())\n",
    "    before_epoch =   int(time_frame[1].timestamp()) \n",
    "    \n",
    "    submision_date = time_frame[0].strftime('%d/%m/%Y')\n",
    "    \n",
    "    push_lst = list(api.search_submissions(after=after_epoch,\n",
    "                            before = before_epoch,\n",
    "                            subreddit='worldnews',\n",
    "                            filter=['score', 'title'],\n",
    "                            limit=35))\n",
    "    \n",
    "    for submission in push_lst:\n",
    "        topic_dict = {}\n",
    "       \n",
    "        topic_dict[\"date\"]=submision_date\n",
    "        topic_dict[\"title\"]= submission.title\n",
    "        topic_dict[\"score\"]= submission.score\n",
    "        topics_lst.append(topic_dict)\n",
    "        \n",
    "    return topics_lst"
   ]
  },
  {
   "cell_type": "code",
   "execution_count": 6,
   "metadata": {},
   "outputs": [],
   "source": [
    "def download_data(sdate,edate):\n",
    "    timeframe_lst = []\n",
    "    delta = edate - sdate       # as timedelta\n",
    "    for i in range(delta.days + 1):\n",
    "        curr_day = sdate + timedelta(days=i)\n",
    "        next_day = sdate + timedelta(days=i + 1)\n",
    "        timeframe_lst.append((curr_day,next_day))\n",
    "    news_lst = []\n",
    "    with concurrent.futures.ThreadPoolExecutor(max_workers = 50 ) as executor:\n",
    "        results = executor.map(fetch_reddit_data,timeframe_lst)\n",
    "        for res in results:                \n",
    "            news_lst.extend(res)\n",
    "            \n",
    "    print('news list lenght ' ,len(news_lst))\n",
    "            \n",
    "    df =  pd.DataFrame(news_lst)\n",
    "    df['Date'] = pd.to_datetime(df['date'])\n",
    "    df = df.sort_values(by=['Date','score'],ascending=[True, False])  \n",
    "    \n",
    "    return df"
   ]
  },
  {
   "cell_type": "code",
   "execution_count": null,
   "metadata": {},
   "outputs": [],
   "source": [
    "sdate = dt(2019, 1, 1)   # start date\n",
    "edate = dt(2019, 12, 31) \n",
    "df_2019 = download_data(sdate,edate)\n",
    "df_2019.to_csv(data_path + '/reddit-yearly-download/news_2019.csv')"
   ]
  },
  {
   "cell_type": "code",
   "execution_count": null,
   "metadata": {},
   "outputs": [],
   "source": [
    "sdate = dt(2018, 1, 1)   # start date\n",
    "edate = dt(2018, 12, 31) \n",
    "df_2018 = download_data(sdate,edate)\n",
    "df_2018.to_csv(data_path + '/reddit-yearly-download/news_2018.csv')\n"
   ]
  },
  {
   "cell_type": "code",
   "execution_count": null,
   "metadata": {},
   "outputs": [],
   "source": [
    "sdate = dt(2017, 1, 1)   # start date\n",
    "edate = dt(2017, 12, 31) \n",
    "df_2017 = download_data(sdate,edate)\n",
    "df_2017.to_csv(data_path + '/reddit-yearly-download/news_2017.csv')"
   ]
  },
  {
   "cell_type": "code",
   "execution_count": null,
   "metadata": {},
   "outputs": [],
   "source": [
    "sdate = dt(2016, 7, 2)   # start date\n",
    "edate = dt(2016, 12, 31) \n",
    "df_2016 = download_data(sdate,edate)\n",
    "df_2016.to_csv(data_path + '/reddit-yearly-download/news_2016.csv')"
   ]
  },
  {
   "cell_type": "code",
   "execution_count": null,
   "metadata": {},
   "outputs": [],
   "source": [
    "sdate = dt(2020, 1, 1)   # start date\n",
    "edate = dt(2020, 9, 1) \n",
    "df_2020 = download_data(sdate,edate)\n",
    "df_2020.to_csv(data_path + '/reddit-yearly-download/news_2020.csv')\n"
   ]
  }
 ],
 "metadata": {
  "kernelspec": {
   "display_name": "Python 3",
   "language": "python",
   "name": "python3"
  },
  "language_info": {
   "codemirror_mode": {
    "name": "ipython",
    "version": 3
   },
   "file_extension": ".py",
   "mimetype": "text/x-python",
   "name": "python",
   "nbconvert_exporter": "python",
   "pygments_lexer": "ipython3",
   "version": "3.7.6"
  }
 },
 "nbformat": 4,
 "nbformat_minor": 2
}
